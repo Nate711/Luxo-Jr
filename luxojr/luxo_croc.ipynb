{
 "cells": [
  {
   "cell_type": "code",
   "execution_count": 155,
   "id": "dfff4d65",
   "metadata": {},
   "outputs": [],
   "source": [
    "import numpy as np\n",
    "import matplotlib.pylab as plt"
   ]
  },
  {
   "cell_type": "code",
   "execution_count": 156,
   "id": "4cbfce10",
   "metadata": {},
   "outputs": [],
   "source": [
    "import crocoddyl"
   ]
  },
  {
   "cell_type": "code",
   "execution_count": 157,
   "id": "42ef7f88",
   "metadata": {},
   "outputs": [],
   "source": [
    "from IPython.display import HTML\n",
    "import matplotlib.pyplot as plt"
   ]
  },
  {
   "cell_type": "code",
   "execution_count": 158,
   "id": "91f1d6f3",
   "metadata": {},
   "outputs": [],
   "source": [
    "class DifferentialActionModelLuxo(crocoddyl.DifferentialActionModelAbstract):\n",
    "    def __init__(self):\n",
    "        crocoddyl.DifferentialActionModelAbstract.__init__(self, crocoddyl.StateVector(4), 1, 5)  # nu = 1; nr = 6\n",
    "        self.unone = np.zeros(self.nu)\n",
    "\n",
    "        self.Jb = 1e-4\n",
    "        self.Jr = 2.4e-5\n",
    "        self.inertia_per_theta = 1e-6\n",
    "        self.costWeights = [100, 1, 1, 1, 1e-3] # phi, theta, wphi, wtheta, f\n",
    "\n",
    "    def calc(self, data, x, u=None):\n",
    "        if u is None: u = model.unone\n",
    "        # Getting the state and control variables\n",
    "        phi, theta, wphi, wtheta = (x[0]), (x[1]), (x[2]), (x[3])\n",
    "        f = (u[0])\n",
    "        Jb_effective = self.Jb + self.inertia_per_theta * theta * theta\n",
    "        data.xout = np.matrix([1/Jb_effective * f, 1/self.Jr * f]).T\n",
    "\n",
    "        # Computing the cost residual and value\n",
    "        data.r = np.matrix(self.costWeights * np.array([phi, theta, wphi, wtheta, f])).T\n",
    "        data.cost = .5 * (sum(np.asarray(data.r)**2)).item()\n",
    "#         print(x, data.xout, data.r, data.cost)"
   ]
  },
  {
   "cell_type": "code",
   "execution_count": 159,
   "id": "a3bd5bb7",
   "metadata": {},
   "outputs": [],
   "source": [
    "luxoDAM = DifferentialActionModelLuxo()\n",
    "luxoData = luxoDAM.createData()\n",
    "luxoDAM = model = DifferentialActionModelLuxo()\n",
    "luxoND = crocoddyl.DifferentialActionModelNumDiff(luxoDAM, True)"
   ]
  },
  {
   "cell_type": "code",
   "execution_count": 160,
   "id": "ecfb24fa",
   "metadata": {},
   "outputs": [],
   "source": [
    "# Getting the IAM using the simpletic Euler rule\n",
    "timeStep = 5e-2\n",
    "luxoIAM = crocoddyl.IntegratedActionModelEuler(luxoND, timeStep)"
   ]
  },
  {
   "cell_type": "code",
   "execution_count": 161,
   "id": "56c2e332",
   "metadata": {},
   "outputs": [
    {
     "name": "stdout",
     "output_type": "stream",
     "text": [
      "[1.57079633 0.         0.         0.        ]\n"
     ]
    }
   ],
   "source": [
    "# Creating the shooting problem\n",
    "x0 = np.array([np.pi/2, 0, 0., 0.])\n",
    "print(x0)\n",
    "T = 40"
   ]
  },
  {
   "cell_type": "code",
   "execution_count": 162,
   "id": "706c9557",
   "metadata": {},
   "outputs": [],
   "source": [
    "terminalLuxo = DifferentialActionModelLuxo()\n",
    "terminalLuxoDAM = crocoddyl.DifferentialActionModelNumDiff(terminalLuxo, True)\n",
    "terminalLuxoIAM = crocoddyl.IntegratedActionModelEuler(terminalLuxoDAM)\n",
    "\n",
    "terminalLuxo.costWeights[0] = 100\n",
    "terminalLuxo.costWeights[1] = 1\n",
    "terminalLuxo.costWeights[2] = 1\n",
    "terminalLuxo.costWeights[3] = 1\n",
    "terminalLuxo.costWeights[4] = 1e-3\n",
    "problem = crocoddyl.ShootingProblem(x0, [luxoIAM] * T, terminalLuxoIAM)"
   ]
  },
  {
   "cell_type": "code",
   "execution_count": 163,
   "id": "f43c5dce",
   "metadata": {},
   "outputs": [
    {
     "data": {
      "text/plain": [
       "False"
      ]
     },
     "execution_count": 163,
     "metadata": {},
     "output_type": "execute_result"
    }
   ],
   "source": [
    "# Solving it using DDP\n",
    "ddp = crocoddyl.SolverDDP(problem)\n",
    "ddp.setCallbacks([crocoddyl.CallbackVerbose()])\n",
    "ddp.solve([], [], 300)"
   ]
  },
  {
   "cell_type": "code",
   "execution_count": 164,
   "id": "cee080b5",
   "metadata": {},
   "outputs": [
    {
     "data": {
      "text/plain": [
       "[<matplotlib.lines.Line2D at 0x1554423a0>]"
      ]
     },
     "execution_count": 164,
     "metadata": {},
     "output_type": "execute_result"
    },
    {
     "data": {
      "image/png": "[encoded data removed]",
      "text/plain": [
       "<Figure size 432x288 with 1 Axes>"
      ]
     },
     "metadata": {
      "needs_background": "light"
     },
     "output_type": "display_data"
    },
    {
     "data": {
      "image/png": "[encoded data removed]",
      "text/plain": [
       "<Figure size 432x288 with 1 Axes>"
      ]
     },
     "metadata": {
      "needs_background": "light"
     },
     "output_type": "display_data"
    }
   ],
   "source": [
    "plt.plot(np.array(ddp.xs), label=['phi','theta','wphi','wtheta'])\n",
    "plt.legend()\n",
    "plt.figure()\n",
    "plt.plot(np.array(ddp.us))"
   ]
  },
  {
   "cell_type": "code",
   "execution_count": null,
   "id": "7bc73194",
   "metadata": {},
   "outputs": [],
   "source": []
  },
  {
   "cell_type": "code",
   "execution_count": null,
   "id": "58e9aaaf",
   "metadata": {},
   "outputs": [],
   "source": []
  },
  {
   "cell_type": "code",
   "execution_count": null,
   "id": "770bcfe2",
   "metadata": {},
   "outputs": [],
   "source": []
  }
 ],
 "metadata": {
  "kernelspec": {
   "display_name": "Python [conda env:luxo] *",
   "language": "python",
   "name": "conda-env-luxo-py"
  },
  "language_info": {
   "codemirror_mode": {
    "name": "ipython",
    "version": 3
   },
   "file_extension": ".py",
   "mimetype": "text/x-python",
   "name": "python",
   "nbconvert_exporter": "python",
   "pygments_lexer": "ipython3",
   "version": "3.9.9"
  }
 },
 "nbformat": 4,
 "nbformat_minor": 5
}
